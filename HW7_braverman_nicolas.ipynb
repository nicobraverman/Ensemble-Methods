{
  "nbformat": 4,
  "nbformat_minor": 0,
  "metadata": {
    "colab": {
      "name": "HW7_braverman_nicolas.ipynb",
      "provenance": [],
      "collapsed_sections": [
        "UDtpJLrCXdj-",
        "TC9xxX-MaJiJ"
      ],
      "toc_visible": true
    },
    "kernelspec": {
      "name": "python3",
      "display_name": "Python 3"
    },
    "language_info": {
      "name": "python"
    }
  },
  "cells": [
    {
      "cell_type": "markdown",
      "metadata": {
        "id": "YEBNn7WNVVH9"
      },
      "source": [
        "# Homework 7 (30 marks)\n",
        "Create a copy of the notebook to start answering the questions. Name your notebook in the format HW7_lastname_firstname.ipynb to facilitate the grading process.\n",
        "\n",
        "Answer all the questions, test your code to ensure there are no errors and the results are as expected. Once you have answered all the questions, save the final copy, then go to File-> click on Download.ipynb. Once the local copy has been downloaded, submit your file on Blackboard under the corresponding assignment section. Also provide us a link to your notebook during submission.\n",
        "\n",
        "NOTE: Please give the TAs the permission to access your notebooks through the links you have provided during submission.\n",
        "\n",
        "The due date of this homework is 04/23/2021 (Friday).\n",
        "\n",
        "Please ensure you follow all the steps mentioned in the homework.\n",
        "\n",
        "You can submit your solutions any number of times until the deadline.\n",
        "\n",
        "The datasets used in this homework can be found in the google drive link below -\n",
        "\n",
        "https://drive.google.com/drive/folders/1NxCh4X7u7wVo5aHojxjLNs9wC7B7zJhb?usp=sharing\n",
        "\n",
        "Follow the necessary steps to import data to test your code. You can use any method to read your data in the notebook. We will not be grading the methods you use. We will only grade the code from the point where you read the dataset into a pandas dataframe - (pd.read_csv('file_name'))"
      ]
    },
    {
      "cell_type": "markdown",
      "metadata": {
        "id": "XNkmD9GdVx37"
      },
      "source": [
        "Import all the libraries you require in the cell below.\n"
      ]
    },
    {
      "cell_type": "code",
      "metadata": {
        "id": "O38dWgFrTt9g"
      },
      "source": [
        "# Enter your code here\n",
        "import pandas as pd\n",
        "import numpy as np\n",
        "from sklearn.impute import SimpleImputer\n",
        "from sklearn.preprocessing import MinMaxScaler\n",
        "from sklearn.dummy import DummyClassifier\n",
        "from sklearn.model_selection import train_test_split\n",
        "from sklearn.ensemble import BaggingClassifier\n",
        "from sklearn.metrics import accuracy_score\n",
        "from sklearn.ensemble import RandomForestClassifier\n",
        "from sklearn.metrics import (\n",
        "    classification_report,\n",
        "    recall_score,\n",
        "    precision_score,\n",
        "    accuracy_score\n",
        ")\n",
        "from sklearn.ensemble import AdaBoostClassifier\n",
        "from sklearn.tree import DecisionTreeClassifier\n",
        "from sklearn.ensemble import RandomForestClassifier, VotingClassifier\n",
        "from sklearn.svm import SVC\n",
        "from sklearn.linear_model import LogisticRegression"
      ],
      "execution_count": 32,
      "outputs": []
    },
    {
      "cell_type": "markdown",
      "metadata": {
        "id": "HggTkCZoWOSE"
      },
      "source": [
        "## Implement the Ensemble methods learnt in class and compare their accuarcies."
      ]
    },
    {
      "cell_type": "markdown",
      "metadata": {
        "id": "g-eAjVVDV_Nm"
      },
      "source": [
        "The dataset you are going to be using for homework is the **Wisconsin Breast Cancer dataset (cancer.csv)**\n",
        "\n",
        "The dataset contains a total number of 10 features labeled in either benign or malignant classes. The features have 699 instances out of which 16 feature values are missing. The dataset only contains numeric values.\n",
        "\n",
        "Attribute Information:\n",
        "\n",
        "1. Sample code number: id number\n",
        "2. Clump Thickness: 1 - 10\n",
        "3. Uniformity of Cell Size: 1 - 10\n",
        "4. Uniformity of Cell Shape: 1 - 10\n",
        "5. Marginal Adhesion: 1 - 10\n",
        "6. Single Epithelial Cell Size: 1 - 10\n",
        "7. Bare Nuclei: 1 - 10\n",
        "8. Bland Chromatin: 1 - 10\n",
        "9. Normal Nucleoli: 1 - 10\n",
        "10. Mitoses: 1 - 10\n",
        "11. Class: (2 for benign, 4 for malignant) (**target variable**)\n",
        "\n",
        "For more information: https://archive.ics.uci.edu/ml/datasets/breast+cancer+wisconsin+(original)"
      ]
    },
    {
      "cell_type": "markdown",
      "metadata": {
        "id": "g3iLZY-gXhVH"
      },
      "source": [
        "### 1. Read the dataset into variable called '**data**' (1 mark)"
      ]
    },
    {
      "cell_type": "code",
      "metadata": {
        "id": "U2II5L3AXn2A",
        "colab": {
          "base_uri": "https://localhost:8080/"
        },
        "outputId": "1d09ae85-8db9-4101-a480-57697e9edf1b"
      },
      "source": [
        "pd.set_option('display.max_columns', 100)\n",
        "# Enter your code here\n",
        "data = pd.read_csv('cancer.csv')\n",
        "print(data)"
      ],
      "execution_count": 33,
      "outputs": [
        {
          "output_type": "stream",
          "text": [
            "     Sample Code Number  Clump Thickness  Uniformity of Cell Size   \\\n",
            "0               1000025                5                         1   \n",
            "1               1002945                5                         4   \n",
            "2               1015425                3                         1   \n",
            "3               1016277                6                         8   \n",
            "4               1017023                4                         1   \n",
            "..                  ...              ...                       ...   \n",
            "694              776715                3                         1   \n",
            "695              841769                2                         1   \n",
            "696              888820                5                        10   \n",
            "697              897471                4                         8   \n",
            "698              897471                4                         8   \n",
            "\n",
            "     Uniformity of Cell Shape  Marginal Adhesion  Single Epithelial Cell Size  \\\n",
            "0                           1                  1                            2   \n",
            "1                           4                  5                            7   \n",
            "2                           1                  1                            2   \n",
            "3                           8                  1                            3   \n",
            "4                           1                  3                            2   \n",
            "..                        ...                ...                          ...   \n",
            "694                         1                  1                            3   \n",
            "695                         1                  1                            2   \n",
            "696                        10                  3                            7   \n",
            "697                         6                  4                            3   \n",
            "698                         8                  5                            4   \n",
            "\n",
            "    Bland Chromatin  Bare Nuclei  Normal Nucleoli  Mitosis  Class  \n",
            "0                 1            3                1        1      2  \n",
            "1                10            3                2        1      2  \n",
            "2                 2            3                1        1      2  \n",
            "3                 4            3                7        1      2  \n",
            "4                 1            3                1        1      2  \n",
            "..              ...          ...              ...      ...    ...  \n",
            "694               2            1                1        1      2  \n",
            "695               1            1                1        1      2  \n",
            "696               3            8               10        2      4  \n",
            "697               4           10                6        1      4  \n",
            "698               5           10                4        1      4  \n",
            "\n",
            "[699 rows x 11 columns]\n"
          ],
          "name": "stdout"
        }
      ]
    },
    {
      "cell_type": "markdown",
      "metadata": {
        "id": "7DvQpJcMXRd0"
      },
      "source": [
        "### **Preprocessing**: Data needs to be preprocessed before implementing ensemble methods. It is done for you here. \n",
        "### Run the below code first and then answer the questions from 2 - 7."
      ]
    },
    {
      "cell_type": "markdown",
      "metadata": {
        "id": "UDtpJLrCXdj-"
      },
      "source": [
        "#### Deleting unnecessary columns: The column \"Sample code number\" is just an indicator and it's of no use in the modeling. So, let's drop it:\n"
      ]
    },
    {
      "cell_type": "code",
      "metadata": {
        "id": "3bbOI9AYTziJ"
      },
      "source": [
        "data.drop(['Sample Code Number'],axis = 1, inplace = True)\n"
      ],
      "execution_count": 34,
      "outputs": []
    },
    {
      "cell_type": "markdown",
      "metadata": {
        "id": "uaUqMhEPYqSF"
      },
      "source": [
        "#### Handling missing values : \n",
        "As mentioned earlier, the dataset contains missing values. The column named \"Bland Chromatin\" contains them. The missing values are represneted as \"?\". \n",
        "\n",
        "Replace those \"?\"s with 0's and impute them with Mean Imputation"
      ]
    },
    {
      "cell_type": "code",
      "metadata": {
        "id": "cHu_DIDcZs_8",
        "colab": {
          "base_uri": "https://localhost:8080/"
        },
        "outputId": "0d79b7cc-2f40-4cea-8960-8ccd4ffb9b42"
      },
      "source": [
        "data['Bland Chromatin']"
      ],
      "execution_count": 35,
      "outputs": [
        {
          "output_type": "execute_result",
          "data": {
            "text/plain": [
              "0       1\n",
              "1      10\n",
              "2       2\n",
              "3       4\n",
              "4       1\n",
              "       ..\n",
              "694     2\n",
              "695     1\n",
              "696     3\n",
              "697     4\n",
              "698     5\n",
              "Name: Bland Chromatin, Length: 699, dtype: object"
            ]
          },
          "metadata": {
            "tags": []
          },
          "execution_count": 35
        }
      ]
    },
    {
      "cell_type": "code",
      "metadata": {
        "id": "u_5GSsVjU930"
      },
      "source": [
        "data.replace('?',0, inplace=True)"
      ],
      "execution_count": 36,
      "outputs": []
    },
    {
      "cell_type": "code",
      "metadata": {
        "id": "LV3PVQB0U_mF"
      },
      "source": [
        "# Convert the DataFrame object into NumPy array otherwise you will not be able to impute\n",
        "values = data.values\n",
        "# Now impute it\n",
        "imputer = SimpleImputer(missing_values=np.nan, strategy='mean')\n",
        "imputedData = imputer.fit_transform(values)"
      ],
      "execution_count": 37,
      "outputs": []
    },
    {
      "cell_type": "markdown",
      "metadata": {
        "id": "TC9xxX-MaJiJ"
      },
      "source": [
        "#### Normalizing the data:\n",
        "Ranges of the features of the dataset are not the same. This may cause a problem. A small change in a feature might not affect the other. To address this problem, normalize the ranges of the features to a uniform range, in this case, 0 - 1."
      ]
    },
    {
      "cell_type": "code",
      "metadata": {
        "id": "VomHojxET85c",
        "colab": {
          "base_uri": "https://localhost:8080/"
        },
        "outputId": "f0c88951-5c54-42af-c848-4d4e75effa9d"
      },
      "source": [
        "scaler = MinMaxScaler(feature_range=(0, 1))\n",
        "normalizedData = scaler.fit_transform(imputedData)\n",
        "cols = ['Clump Thickness', 'Uniformity of Cell Size', 'Uniformity of Cell Shape', 'Marginal Adhesion', 'Single Epithelial Cell Size', 'Bland Chromatin', 'Bare Nuclei', 'Normal Nucleoli', 'Mitosis','Class']\n",
        "normalizedData = pd.DataFrame(normalizedData, columns=cols)\n",
        "print(normalizedData.head())"
      ],
      "execution_count": 38,
      "outputs": [
        {
          "output_type": "stream",
          "text": [
            "   Clump Thickness  Uniformity of Cell Size  Uniformity of Cell Shape  \\\n",
            "0         0.444444                 0.000000                  0.000000   \n",
            "1         0.444444                 0.333333                  0.333333   \n",
            "2         0.222222                 0.000000                  0.000000   \n",
            "3         0.555556                 0.777778                  0.777778   \n",
            "4         0.333333                 0.000000                  0.000000   \n",
            "\n",
            "   Marginal Adhesion  Single Epithelial Cell Size  Bland Chromatin  \\\n",
            "0           0.000000                     0.111111              0.1   \n",
            "1           0.444444                     0.666667              1.0   \n",
            "2           0.000000                     0.111111              0.2   \n",
            "3           0.000000                     0.222222              0.4   \n",
            "4           0.222222                     0.111111              0.1   \n",
            "\n",
            "   Bare Nuclei  Normal Nucleoli  Mitosis  Class  \n",
            "0     0.222222         0.000000      0.0    0.0  \n",
            "1     0.222222         0.111111      0.0    0.0  \n",
            "2     0.222222         0.000000      0.0    0.0  \n",
            "3     0.222222         0.666667      0.0    0.0  \n",
            "4     0.222222         0.000000      0.0    0.0  \n"
          ],
          "name": "stdout"
        }
      ]
    },
    {
      "cell_type": "markdown",
      "metadata": {
        "id": "Sb2YjZckaZ2-"
      },
      "source": [
        "### Data preprocessing is done and now you will answer the below questions using the **normalizedData**: "
      ]
    },
    {
      "cell_type": "markdown",
      "metadata": {
        "id": "Cq2ChemrbDz2"
      },
      "source": [
        "### 2. Split the data into test and training data with test size - 30%. Compute the baseline classification accuracy for X_train. (3 marks)"
      ]
    },
    {
      "cell_type": "code",
      "metadata": {
        "id": "gOshE9K_UA5S",
        "colab": {
          "base_uri": "https://localhost:8080/"
        },
        "outputId": "ce180221-4455-4716-a968-26313fb9500e"
      },
      "source": [
        "# Enter your code here\n",
        "# separate target variable from features\n",
        "X = data.iloc[:,:-1]\n",
        "y = data.iloc[:,-1]\n",
        "\n",
        "# print(data.shape)\n",
        "# print(X.shape)\n",
        "# print(y.shape)\n",
        "\n",
        "# partition data into training and testing sets\n",
        "X_train, X_test, y_train, y_test = train_test_split(\n",
        "                                                    X,\n",
        "                                                    y,\n",
        "                                                    test_size=0.3,\n",
        "                                                    stratify=y,\n",
        "                                                    random_state=42\n",
        "                                                    )\n",
        "# compute baseline classification accuracy\n",
        "dummy_classifier = DummyClassifier(strategy='most_frequent')\n",
        "dummy_classifier.fit(X_train,y_train)\n",
        "baseline_acc = dummy_classifier.score(X_test,y_test)\n",
        "\n",
        "\n",
        "#verifying answer:\n",
        "print(\"Baseline Accuracy = \", baseline_acc)"
      ],
      "execution_count": 39,
      "outputs": [
        {
          "output_type": "stream",
          "text": [
            "Baseline Accuracy =  0.6571428571428571\n"
          ],
          "name": "stdout"
        }
      ]
    },
    {
      "cell_type": "markdown",
      "metadata": {
        "id": "J3RUF9RvgA-N"
      },
      "source": [
        "### 3.  Bagging : Build a generic Bagging ensemble and print the accuracy (4 marks)\n",
        "---\n",
        "\n",
        "\n",
        "Hyperparameters:\n",
        "\n",
        "Base estimator = DecisionTreeClassifier\n",
        "\n",
        "n_estimators = 10\n",
        "\n",
        "random_state = 42\n",
        "\n",
        "---\n"
      ]
    },
    {
      "cell_type": "code",
      "metadata": {
        "id": "C78-znrIUDcs",
        "colab": {
          "base_uri": "https://localhost:8080/"
        },
        "outputId": "bbdd966d-089d-4813-ab29-72e980e883ec"
      },
      "source": [
        "# Generic Bagging model\n",
        "# Enter your code here\n",
        "model_bagging = BaggingClassifier(random_state = 42)\n",
        "model_bagging.fit(X_train, y_train)\n",
        "pred_bagging = model_bagging.predict(X_test)\n",
        "acc_bagging = accuracy_score(y_test, pred_bagging)\n",
        "\n",
        "print(' Accuracy = ', acc_bagging)"
      ],
      "execution_count": 40,
      "outputs": [
        {
          "output_type": "stream",
          "text": [
            " Accuracy =  0.9571428571428572\n"
          ],
          "name": "stdout"
        }
      ]
    },
    {
      "cell_type": "markdown",
      "metadata": {
        "id": "mlupszlqg6El"
      },
      "source": [
        "### 4. RandomForest : (7 marks)\n",
        "#### a) Build a Random Forest model and print the accuracy (4 marks)\n",
        "---\n",
        "\n",
        "Constructor arguments: \n",
        "\n",
        "\n",
        "n_estimators = 100, max_features = 7 and random_state = 42 \n",
        "\n",
        "\n",
        "---\n",
        "\n",
        "\n"
      ]
    },
    {
      "cell_type": "code",
      "metadata": {
        "colab": {
          "base_uri": "https://localhost:8080/"
        },
        "id": "TagawD02hKlF",
        "outputId": "7d9bec88-9687-4b4c-da4e-3c09dbd1f3cb"
      },
      "source": [
        "# Random Forest model\n",
        "# Enter your code here\n",
        "\n",
        "model_rf_oob = RandomForestClassifier(n_estimators=100, max_features=7, oob_score=True, random_state=42).fit(X_train, y_train)\n",
        "oob_score = round(model_rf_oob.oob_score_,4)\n",
        "acc_oob = round(accuracy_score(y_test, model_rf_oob.predict(X_test)),4)\n",
        "diff_oob = round(abs(oob_score - acc_oob),4)\n",
        "\n",
        "print('Testing Accuracy:', acc_oob)"
      ],
      "execution_count": 41,
      "outputs": [
        {
          "output_type": "stream",
          "text": [
            "Testing Accuracy: 0.9524\n"
          ],
          "name": "stdout"
        }
      ]
    },
    {
      "cell_type": "markdown",
      "metadata": {
        "id": "48iH9eV8xkbE"
      },
      "source": [
        "####  b) Calculate the top 3 important features for the above **RandomForest** model and print them (3 marks)"
      ]
    },
    {
      "cell_type": "code",
      "metadata": {
        "id": "M469DqsQxlFN",
        "colab": {
          "base_uri": "https://localhost:8080/"
        },
        "outputId": "f8eb6d81-7658-4c1b-a3fd-197b2d23ec52"
      },
      "source": [
        "# Top 3 features for RandomForest\n",
        "# Enter your code here\n",
        "\n",
        "print('OOB Score:', oob_score)\n",
        "print('Testing Accuracy:', acc_oob)\n",
        "print('Acc. Difference:', diff_oob)"
      ],
      "execution_count": 42,
      "outputs": [
        {
          "output_type": "stream",
          "text": [
            "OOB Score: 0.9632\n",
            "Testing Accuracy: 0.9524\n",
            "Acc. Difference: 0.0108\n"
          ],
          "name": "stdout"
        }
      ]
    },
    {
      "cell_type": "markdown",
      "metadata": {
        "id": "rnrkSasYh6gF"
      },
      "source": [
        "### 5. Boosting: (7 marks)\n",
        "#### a) Build an AdaBoost model with training data and print the accuracy (4 marks)\n",
        "---\n",
        "\n",
        "Hyperparameters:\n",
        "\n",
        "Base estimator = DecisionTreeClassifier, max_depth = 4\n",
        "\n",
        "n_estimators = 200\n",
        "\n",
        "random_state = 42\n",
        "\n",
        "learning_rate = 0.05\n",
        "\n",
        "\n",
        "---\n",
        "\n",
        "\n",
        "\n",
        "\n",
        "\n",
        "\n",
        "\n"
      ]
    },
    {
      "cell_type": "code",
      "metadata": {
        "id": "DQIzaUjWUHv7",
        "colab": {
          "base_uri": "https://localhost:8080/"
        },
        "outputId": "1e6831f1-52bc-4c76-c54e-e155901339ee"
      },
      "source": [
        "# AdaBoost Classification\n",
        "# Enter your code here\n",
        "\n",
        "base_est = DecisionTreeClassifier (max_depth =4)\n",
        "ada_boost1 = AdaBoostClassifier(base_est, n_estimators=200, random_state=42, learning_rate=.05)\n",
        "ada_boost1.fit(X_train, y_train)\n",
        "\n",
        "print(accuracy_score(y_test, ada_boost1.predict(X_test)))"
      ],
      "execution_count": 43,
      "outputs": [
        {
          "output_type": "stream",
          "text": [
            "0.9523809523809523\n"
          ],
          "name": "stdout"
        }
      ]
    },
    {
      "cell_type": "markdown",
      "metadata": {
        "id": "usBQDazfw2L1"
      },
      "source": [
        "#### b) Calculate the top 3 important features for the above **AdaBoost** model and print them (3 marks)"
      ]
    },
    {
      "cell_type": "code",
      "metadata": {
        "id": "jbEUjwQRw3rW",
        "colab": {
          "base_uri": "https://localhost:8080/"
        },
        "outputId": "4d90efc4-a5f8-4259-dad3-8996c3c8f466"
      },
      "source": [
        "# Top 3 features for AdaBoost\n",
        "# Enter your code here\n",
        "\n",
        "feature_importances = ada_boost1.feature_importances_\n",
        "features = X_train.columns\n",
        "df2 = pd.DataFrame({\"features\": features, \"importance\": feature_importances})\n",
        "print(df2)\n",
        "\n",
        "# top 3 features: clump thinkness, uniformity of cell size, normal nucleoli"
      ],
      "execution_count": 44,
      "outputs": [
        {
          "output_type": "stream",
          "text": [
            "                      features  importance\n",
            "0              Clump Thickness    0.323357\n",
            "1     Uniformity of Cell Size     0.183736\n",
            "2     Uniformity of Cell Shape    0.074068\n",
            "3            Marginal Adhesion    0.077525\n",
            "4  Single Epithelial Cell Size    0.028903\n",
            "5              Bland Chromatin    0.115301\n",
            "6                  Bare Nuclei    0.026363\n",
            "7              Normal Nucleoli    0.138899\n",
            "8                      Mitosis    0.031848\n"
          ],
          "name": "stdout"
        }
      ]
    },
    {
      "cell_type": "markdown",
      "metadata": {
        "id": "zMpdvP7ZjAOt"
      },
      "source": [
        "### 6. Voting : Using a voting classifier, build an ensemble of RandomForestClassifier, DecisionTreeClassifier, Support Vector Machine and Logistic Regression. (7 marks)\n",
        "\n",
        "\n",
        "---\n",
        "\n",
        "\n",
        "Use max_depth = 4, n_estimators = 200, voting = soft"
      ]
    },
    {
      "cell_type": "code",
      "metadata": {
        "id": "3M3ZIcrqUKjK",
        "colab": {
          "base_uri": "https://localhost:8080/"
        },
        "outputId": "3ea9aadb-09d8-420e-c34e-5fc911e11420"
      },
      "source": [
        "# Voting Ensemble for Classification\n",
        "# Enter your code here\n",
        "\n",
        "rfClf = RandomForestClassifier(n_estimators=200)\n",
        "svmClf = SVC(probability=True)\n",
        "logClf = LogisticRegression()\n",
        "\n",
        "decisionTree = DecisionTreeClassifier(max_depth=4)\n",
        "\n",
        "clf2 = VotingClassifier(estimators = [('rf',rfClf), ('svm',svmClf), ('log', logClf), (\"dtClf\", decisionTree)], voting='soft')\n",
        "clf2.fit(X_train, y_train)\n",
        "clf2_pred = clf2.predict(X_test)\n",
        "\n",
        "print(accuracy_score(y_test, clf2_pred))"
      ],
      "execution_count": 48,
      "outputs": [
        {
          "output_type": "stream",
          "text": [
            "0.9571428571428572\n"
          ],
          "name": "stdout"
        }
      ]
    },
    {
      "cell_type": "markdown",
      "metadata": {
        "id": "Wj2CVbBYVTun"
      },
      "source": [
        "### 7. Mention the best model among the above 4 models and its accuracy (1 mark)"
      ]
    },
    {
      "cell_type": "code",
      "metadata": {
        "id": "gj09m4z_lXNB",
        "colab": {
          "base_uri": "https://localhost:8080/"
        },
        "outputId": "0bf0bc64-37a5-4157-c33d-ad16a32f99ac"
      },
      "source": [
        "# Write your answer here\n",
        "\n",
        "# bagging\n",
        "print(acc_bagging)\n",
        "\n",
        "#random forest\n",
        "print(acc_oob)\n",
        "\n",
        "#boosting\n",
        "print(accuracy_score(y_test, ada_boost1.predict(X_test)))\n",
        "\n",
        "#voting classifier\n",
        "print(accuracy_score(y_test,clf2_pred))\n",
        "\n",
        "# both the bagging and voting classifer models have the best accuracy at 0.9571428571428572 \n"
      ],
      "execution_count": 50,
      "outputs": [
        {
          "output_type": "stream",
          "text": [
            "0.9571428571428572\n",
            "0.9524\n",
            "0.9523809523809523\n",
            "0.9571428571428572\n"
          ],
          "name": "stdout"
        }
      ]
    }
  ]
}